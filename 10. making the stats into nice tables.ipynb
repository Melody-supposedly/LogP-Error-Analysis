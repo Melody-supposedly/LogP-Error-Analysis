{
 "cells": [
  {
   "cell_type": "code",
   "execution_count": 53,
   "id": "7ec5ddad",
   "metadata": {},
   "outputs": [],
   "source": [
    "import pandas as pd\n",
    "import numpy as np\n",
    "import re\n",
    "stats = pd.read_csv('9.3. error statistics by feature with excel stuff.csv', index_col=0)\n",
    "stats2 = pd.read_csv('8.1. statistical testing results.csv', index_col=0).transpose()"
   ]
  },
  {
   "cell_type": "code",
   "execution_count": 54,
   "id": "df7c498c",
   "metadata": {},
   "outputs": [],
   "source": [
    "props = stats[::2].index.values\n",
    "props = [re.sub('With ', '', prop) for prop in props]\n",
    "vals = stats.loc[:, 'Kowwin Mean':'consensus logp IQR'].columns.values\n",
    "methods = vals[::6]\n",
    "methods = [re.sub(' Mean', '', method) for method in methods]\n",
    "valsnew = []\n",
    "loop = 0\n",
    "while loop < (len(vals) / 6):\n",
    "    valsnew.append((methods[loop] + ' T-statistic'))\n",
    "    valsnew.append((methods[loop] + ' p-value'))\n",
    "    valsnew.append((methods[loop] + ' Degrees of Freedom'))\n",
    "    valsnew.append(vals[loop * 6])\n",
    "    valsnew.append(vals[loop * 6 + 1])\n",
    "    valsnew.append(vals[loop * 6 + 3])\n",
    "    valsnew.append(vals[loop * 6 + 4])\n",
    "    valsnew.append(vals[loop * 6 + 5])\n",
    "    loop += 1\n",
    "propsnew = stats.index.values\n",
    "propsnew = [re.sub('With ', '', prop) for prop in propsnew]\n",
    "propsnew = [re.sub('Without', 'No', prop) for prop in propsnew]\n",
    "full_stats = pd.DataFrame(index=propsnew, columns=valsnew)"
   ]
  },
  {
   "cell_type": "code",
   "execution_count": 55,
   "id": "b61ae6fe",
   "metadata": {},
   "outputs": [],
   "source": [
    "for method in methods:\n",
    "    for prop in props:\n",
    "        full_stats.loc[prop, method + ' T-statistic'] = stats2.loc['Statistic', prop + ', Abs ' + method + ' error']\n",
    "        full_stats.loc[prop, method + ' p-value'] = stats2.loc['P-Value', prop + ', Abs ' + method + ' error']\n",
    "        full_stats.loc[prop, method + ' Degrees of Freedom'] = stats2.loc['Degrees of Freedom', prop + ', Abs ' + method + ' error']"
   ]
  },
  {
   "cell_type": "code",
   "execution_count": 57,
   "id": "b82c9324",
   "metadata": {},
   "outputs": [],
   "source": [
    "for val in vals:\n",
    "    for prop in props:\n",
    "        full_stats.loc[prop, val] = stats.loc['With ' + prop, val]\n",
    "        full_stats.loc['No ' + prop, val] = stats.loc['Without ' + prop, val]\n",
    "full_stats.to_csv('10.1. full error statistics and statistical testing.csv')"
   ]
  }
 ],
 "metadata": {
  "kernelspec": {
   "display_name": "testing",
   "language": "python",
   "name": "python3"
  },
  "language_info": {
   "codemirror_mode": {
    "name": "ipython",
    "version": 3
   },
   "file_extension": ".py",
   "mimetype": "text/x-python",
   "name": "python",
   "nbconvert_exporter": "python",
   "pygments_lexer": "ipython3",
   "version": "3.13.0"
  }
 },
 "nbformat": 4,
 "nbformat_minor": 5
}
