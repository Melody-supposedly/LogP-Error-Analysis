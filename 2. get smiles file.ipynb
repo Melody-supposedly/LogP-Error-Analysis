{
 "cells": [
  {
   "cell_type": "code",
   "execution_count": 3,
   "id": "810cd433",
   "metadata": {},
   "outputs": [],
   "source": [
    "import pandas as pd\n",
    "import rdkit as rk\n",
    "data = pd.read_csv('0. input data.csv')\n",
    "data2 = data.loc[:, ['SMILES']]"
   ]
  },
  {
   "cell_type": "code",
   "execution_count": 4,
   "id": "5e2e2a4b",
   "metadata": {},
   "outputs": [],
   "source": [
    "data2.to_csv(\"2.1. smiles data.smi\", index=False, header=False)"
   ]
  }
 ],
 "metadata": {
  "kernelspec": {
   "display_name": "testing",
   "language": "python",
   "name": "python3"
  },
  "language_info": {
   "codemirror_mode": {
    "name": "ipython",
    "version": 3
   },
   "file_extension": ".py",
   "mimetype": "text/x-python",
   "name": "python",
   "nbconvert_exporter": "python",
   "pygments_lexer": "ipython3",
   "version": "3.13.0"
  }
 },
 "nbformat": 4,
 "nbformat_minor": 5
}
