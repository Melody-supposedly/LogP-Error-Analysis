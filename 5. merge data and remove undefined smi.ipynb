{
 "cells": [
  {
   "cell_type": "code",
   "execution_count": 8,
   "id": "68195d00",
   "metadata": {},
   "outputs": [],
   "source": [
    "import pandas as pd\n",
    "import numpy as np\n",
    "import rdkit as rk\n",
    "data1 = pd.read_csv(\"3.1. data with alogp cleaned.csv\")\n",
    "data2 = pd.read_csv(\"4.1. vega output cleaned.csv\")"
   ]
  },
  {
   "cell_type": "code",
   "execution_count": 9,
   "id": "de9a5483",
   "metadata": {},
   "outputs": [],
   "source": [
    "data = data1.join(data2).drop(columns=['SMILES2'])"
   ]
  },
  {
   "cell_type": "code",
   "execution_count": 10,
   "id": "086dd831",
   "metadata": {},
   "outputs": [],
   "source": [
    "data['LogP model (ALogP)-prediction'] = data['LogP model (ALogP)-prediction'].replace('-', np.nan)\n",
    "data['LogP model (MLogP)-prediction'] = data['LogP model (MLogP)-prediction'].replace('-', np.nan)\n",
    "data['LogP model (Meylan-Kowwin)-prediction'] = data['LogP model (Meylan-Kowwin)-prediction'].replace('-', np.nan)"
   ]
  },
  {
   "cell_type": "code",
   "execution_count": 11,
   "id": "97ff2e5d",
   "metadata": {},
   "outputs": [],
   "source": [
    "data['defined smi'] = data['SMILES'].apply(lambda smi: smi is not np.nan)\n",
    "data = data[data['defined smi'] == True].drop(columns=['defined smi'])"
   ]
  },
  {
   "cell_type": "code",
   "execution_count": 13,
   "id": "83a1206d",
   "metadata": {},
   "outputs": [],
   "source": [
    "data.to_csv(\"5.1. cleaned and merged data.csv\", index=False)"
   ]
  }
 ],
 "metadata": {
  "kernelspec": {
   "display_name": "testing",
   "language": "python",
   "name": "python3"
  },
  "language_info": {
   "codemirror_mode": {
    "name": "ipython",
    "version": 3
   },
   "file_extension": ".py",
   "mimetype": "text/x-python",
   "name": "python",
   "nbconvert_exporter": "python",
   "pygments_lexer": "ipython3",
   "version": "3.13.0"
  }
 },
 "nbformat": 4,
 "nbformat_minor": 5
}
