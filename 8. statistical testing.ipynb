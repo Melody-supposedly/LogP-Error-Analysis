{
 "cells": [
  {
   "cell_type": "code",
   "execution_count": 13,
   "id": "54f2088c",
   "metadata": {},
   "outputs": [],
   "source": [
    "import numpy as np\n",
    "import scipy as sp\n",
    "import pandas as pd\n",
    "data = pd.read_csv('7.1. data with error values.csv')"
   ]
  },
  {
   "cell_type": "code",
   "execution_count": 14,
   "id": "c4deb1e5",
   "metadata": {},
   "outputs": [],
   "source": [
    "def compounds_with(column, feature):\n",
    "    return data[column].loc[data[feature] > 0]\n",
    "def compounds_without(column, feature):\n",
    "    return data[column].loc[data[feature] == 0]"
   ]
  },
  {
   "cell_type": "code",
   "execution_count": 19,
   "id": "4f996f5e",
   "metadata": {},
   "outputs": [],
   "source": [
    "modellist = data.columns[35:42]\n",
    "propertylist = data.columns[8:34]\n",
    "header = ['Statistic', 'P-Value', 'Degrees of Freedom']\n",
    "ind = []\n",
    "propertywrite = 0\n",
    "while propertywrite < len(propertylist):\n",
    "    propertyx = propertylist[propertywrite]\n",
    "    modelwrite = 0\n",
    "    while modelwrite < len(modellist):\n",
    "        modelx = modellist[modelwrite]\n",
    "        ind.append(propertyx + ', ' + modelx)\n",
    "        modelwrite += 1\n",
    "    propertywrite += 1\n",
    "data1 = pd.DataFrame(columns=header, index=pd.Index(ind, name='Model and Property'))"
   ]
  },
  {
   "cell_type": "code",
   "execution_count": 25,
   "id": "ae469bef",
   "metadata": {},
   "outputs": [],
   "source": [
    "from scipy import stats\n",
    "modelrun = 0\n",
    "while modelrun < len(modellist):\n",
    "    propertyrun = 0\n",
    "    while propertyrun < len(propertylist):\n",
    "        model = modellist[modelrun]\n",
    "        property = propertylist[propertyrun]\n",
    "        x = compounds_with(model, property)\n",
    "        y = compounds_without(model, property)\n",
    "        a = [(stats.ttest_ind(x, y, equal_var=False, nan_policy='omit').statistic),\n",
    "            (stats.ttest_ind(x, y, equal_var=False, nan_policy='omit').pvalue),\n",
    "            (stats.ttest_ind(x, y, equal_var=False, nan_policy='omit').df),\n",
    "        ]\n",
    "        n = 0\n",
    "        while n < len(a):\n",
    "            data1.loc[(property + ', ' + model), (header[n])] = a[n]\n",
    "            n += 1\n",
    "        propertyrun += 1\n",
    "    modelrun += 1"
   ]
  },
  {
   "cell_type": "code",
   "execution_count": 26,
   "id": "7c33957e",
   "metadata": {},
   "outputs": [],
   "source": [
    "data1.to_csv('8.1. statistical testing results.csv')"
   ]
  }
 ],
 "metadata": {
  "kernelspec": {
   "display_name": "testing",
   "language": "python",
   "name": "python3"
  },
  "language_info": {
   "codemirror_mode": {
    "name": "ipython",
    "version": 3
   },
   "file_extension": ".py",
   "mimetype": "text/x-python",
   "name": "python",
   "nbconvert_exporter": "python",
   "pygments_lexer": "ipython3",
   "version": "3.13.0"
  }
 },
 "nbformat": 4,
 "nbformat_minor": 5
}
