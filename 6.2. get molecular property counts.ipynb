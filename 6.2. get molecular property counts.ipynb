{
 "cells": [
  {
   "cell_type": "code",
   "execution_count": 8,
   "id": "03f2164e",
   "metadata": {},
   "outputs": [],
   "source": [
    "import numpy as np\n",
    "import pandas as pd\n",
    "import matplotlib.pyplot as plt\n",
    "data = pd.read_csv('7.1. data with error values.csv')\n",
    "data1 = data.drop(columns=data.columns[0:8]).drop(columns=data.columns[34])"
   ]
  },
  {
   "cell_type": "code",
   "execution_count": 9,
   "id": "4fa1df2e",
   "metadata": {},
   "outputs": [],
   "source": [
    "propertylist = data1.columns[0:26]\n",
    "n = 0\n",
    "while n < len(propertylist):\n",
    "    data1[propertylist[n]] = data1[propertylist[n]].apply(lambda prop: prop > 0)\n",
    "    n += 1"
   ]
  },
  {
   "cell_type": "code",
   "execution_count": 12,
   "id": "38795ee0",
   "metadata": {},
   "outputs": [],
   "source": [
    "data2 = pd.DataFrame(columns=propertylist, index=['True', 'False'])\n",
    "for prop in propertylist:\n",
    "    data2.loc['True', prop] = data1[prop].sum()\n",
    "    data2.loc['False', prop] = len(data1) - data1[prop].sum()\n",
    "data2 = data2.transpose(copy=True)\n",
    "data2.sort_values(by='True', inplace=True)"
   ]
  },
  {
   "cell_type": "code",
   "execution_count": 13,
   "id": "19fffa90",
   "metadata": {},
   "outputs": [],
   "source": [
    "data2.to_csv('6.2.1. molecular property counts.csv')"
   ]
  }
 ],
 "metadata": {
  "kernelspec": {
   "display_name": "testing",
   "language": "python",
   "name": "python3"
  },
  "language_info": {
   "codemirror_mode": {
    "name": "ipython",
    "version": 3
   },
   "file_extension": ".py",
   "mimetype": "text/x-python",
   "name": "python",
   "nbconvert_exporter": "python",
   "pygments_lexer": "ipython3",
   "version": "3.13.0"
  }
 },
 "nbformat": 4,
 "nbformat_minor": 5
}
