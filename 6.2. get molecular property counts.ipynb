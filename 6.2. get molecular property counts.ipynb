{
 "cells": [
  {
   "cell_type": "code",
   "execution_count": 8,
   "id": "03f2164e",
   "metadata": {},
   "outputs": [],
   "source": [
    "import numpy as np\n",
    "import pandas as pd\n",
    "import matplotlib.pyplot as plt\n",
    "data = pd.read_csv('7.1. data with error values.csv')\n",
    "data1 = data.drop(columns=data.columns[0:8]).drop(columns=data.columns[34])"
   ]
  },
  {
   "cell_type": "code",
   "execution_count": 9,
   "id": "4fa1df2e",
   "metadata": {},
   "outputs": [],
   "source": [
    "propertylist = data1.columns[0:26]\n",
    "n = 0\n",
    "while n < len(propertylist):\n",
    "    data1[propertylist[n]] = data1[propertylist[n]].apply(lambda prop: prop > 0)\n",
    "    n += 1"
   ]
  },
  {
   "cell_type": "code",
   "execution_count": 10,
   "id": "38795ee0",
   "metadata": {},
   "outputs": [],
   "source": [
    "data2 = pd.DataFrame(columns=propertylist, index=[True, False, 'Max_U_Stat'])\n",
    "for prop in propertylist:\n",
    "    data2.loc[True, prop] = data1[prop].sum()\n",
    "    data2.loc[False, prop] = len(data1) - data1[prop].sum()"
   ]
  },
  {
   "cell_type": "code",
   "execution_count": 11,
   "id": "19fffa90",
   "metadata": {},
   "outputs": [],
   "source": [
    "data2.to_csv('molecular property data.csv')"
   ]
  },
  {
   "cell_type": "code",
   "execution_count": null,
   "id": "09cc496f",
   "metadata": {},
   "outputs": [],
   "source": [
    "data2np = data2.to_numpy(dtype=float)\n",
    "counts = {\n",
    "    'Compounds with': data2np[0],\n",
    "    'Compounds without': data2np[1]\n",
    "}\n",
    "bottom = np.zeros(len(propertylist))\n",
    "for label, val_count in counts.items():\n",
    "    p = plt.bar(\n",
    "        propertylist,\n",
    "        val_count,\n",
    "        label=(label + ' ' + propertylist + ' (' + (val_count / (data2np[0] + data2np[1]) * 100).round(1).astype(str) + '%)'),\n",
    "        width = 1,\n",
    "        bottom=bottom\n",
    "    )\n",
    "    bottom += val_count\n",
    "    plt.bar_label(p, label_type='center', rotation=-90)\n",
    "\n",
    "plt.title('Molecular Properties Distribution')\n",
    "plt.show()"
   ]
  }
 ],
 "metadata": {
  "kernelspec": {
   "display_name": "testing",
   "language": "python",
   "name": "python3"
  },
  "language_info": {
   "codemirror_mode": {
    "name": "ipython",
    "version": 3
   },
   "file_extension": ".py",
   "mimetype": "text/x-python",
   "name": "python",
   "nbconvert_exporter": "python",
   "pygments_lexer": "ipython3",
   "version": "3.13.0"
  }
 },
 "nbformat": 4,
 "nbformat_minor": 5
}
