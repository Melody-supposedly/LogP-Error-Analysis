{
 "cells": [
  {
   "cell_type": "code",
   "execution_count": 18,
   "id": "36dc100d",
   "metadata": {},
   "outputs": [],
   "source": [
    "import pandas as pd\n",
    "import numpy as np\n",
    "mols = pd.read_csv('7.1. data with error values.csv')\n",
    "statstest = pd.read_csv('8.1. statistical testing results.csv')"
   ]
  },
  {
   "cell_type": "code",
   "execution_count": 21,
   "id": "317051f8",
   "metadata": {},
   "outputs": [],
   "source": [
    "errorstats = pd.DataFrame(index = mols.loc[:, 'Abs Kowwin error':'Abs consensus logp error'].columns.values, columns=['Mean', 'Standard Deviation', 'Minimum', 'Maximum', 'Median', 'IQR'])\n",
    "errorstats['Mean'] = mols.loc[:, 'Abs Kowwin error':'Abs consensus logp error'].mean(axis=0).round(5)\n",
    "errorstats['Standard Deviation'] = mols.loc[:, 'Abs Kowwin error':'Abs consensus logp error'].std(axis=0).round(5)\n",
    "errorstats['Minimum'] = mols.loc[:, 'Abs Kowwin error':'Abs consensus logp error'].min(axis=0).round(4)\n",
    "errorstats['Maximum'] = mols.loc[:, 'Abs Kowwin error':'Abs consensus logp error'].max(axis=0).round(4)\n",
    "errorstats['Median'] = mols.loc[:, 'Abs Kowwin error':'Abs consensus logp error'].median(axis=0).round(5)\n",
    "errorstats['IQR'] = (mols.loc[:, 'Abs Kowwin error':'Abs consensus logp error'].quantile(0.75) - mols.loc[:, 'Abs Kowwin error':'Abs consensus logp error'].quantile(0.25)).round(5)\n",
    "errorstats.to_csv('9.1. error statistics.csv')"
   ]
  }
 ],
 "metadata": {
  "kernelspec": {
   "display_name": "testing",
   "language": "python",
   "name": "python3"
  },
  "language_info": {
   "codemirror_mode": {
    "name": "ipython",
    "version": 3
   },
   "file_extension": ".py",
   "mimetype": "text/x-python",
   "name": "python",
   "nbconvert_exporter": "python",
   "pygments_lexer": "ipython3",
   "version": "3.13.0"
  }
 },
 "nbformat": 4,
 "nbformat_minor": 5
}
