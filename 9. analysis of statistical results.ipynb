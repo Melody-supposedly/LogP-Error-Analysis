{
 "cells": [
  {
   "cell_type": "code",
   "execution_count": 1,
   "id": "36dc100d",
   "metadata": {},
   "outputs": [],
   "source": [
    "import pandas as pd\n",
    "import numpy as np\n",
    "mols = pd.read_csv('7.1. data with error values.csv')\n",
    "statstest = pd.read_csv('8.1. statistical testing results.csv')"
   ]
  },
  {
   "cell_type": "code",
   "execution_count": 14,
   "id": "317051f8",
   "metadata": {},
   "outputs": [],
   "source": [
    "errorstats = pd.DataFrame(index = mols.loc[:, 'Abs Kowwin error':'Abs consensus logp error'].columns.values, columns=['Mean', 'Standard Deviation', 'Minimum', 'Maximum', 'Median', 'IQR'])\n",
    "errorstats['Mean'] = mols.loc[:, 'Abs Kowwin error':'Abs consensus logp error'].mean(axis=0).round(5)\n",
    "errorstats['Standard Deviation'] = mols.loc[:, 'Abs Kowwin error':'Abs consensus logp error'].std(axis=0).round(5)\n",
    "errorstats['Minimum'] = mols.loc[:, 'Abs Kowwin error':'Abs consensus logp error'].min(axis=0).round(4)\n",
    "errorstats['Maximum'] = mols.loc[:, 'Abs Kowwin error':'Abs consensus logp error'].max(axis=0).round(4)\n",
    "errorstats['Median'] = mols.loc[:, 'Abs Kowwin error':'Abs consensus logp error'].median(axis=0).round(5)\n",
    "errorstats['IQR'] = (mols.loc[:, 'Abs Kowwin error':'Abs consensus logp error'].quantile(0.75) - mols.loc[:, 'Abs Kowwin error':'Abs consensus logp error'].quantile(0.25)).round(5)\n",
    "errorstats.to_csv('9.1. error statistics.csv')"
   ]
  },
  {
   "cell_type": "code",
   "execution_count": 3,
   "id": "6be3c890",
   "metadata": {},
   "outputs": [],
   "source": [
    "def compounds_with(column, feature):\n",
    "    return mols[column].loc[mols[feature] > 0]\n",
    "def compounds_without(column, feature):\n",
    "    return mols[column].loc[mols[feature] == 0]"
   ]
  },
  {
   "cell_type": "code",
   "execution_count": 13,
   "id": "d86842a9",
   "metadata": {},
   "outputs": [],
   "source": [
    "import re\n",
    "features = mols.loc[:, 'carboxylic acid':'aromatic rings'].columns.values\n",
    "methods = mols.loc[:, 'Abs Kowwin error':'Abs consensus logp error'].columns.values.tolist()\n",
    "methods = [re.sub('Abs ', '', method) for method in methods]\n",
    "methods = [re.sub(' error', '', method) for method in methods]\n",
    "index = []\n",
    "cols = ['Count']\n",
    "for feature in features:\n",
    "    index.append('With ' + feature)\n",
    "    index.append('Without ' + feature)\n",
    "for method in methods:\n",
    "    cols.append(method + ' Mean')\n",
    "    cols.append(method + ' Standard Deviation')\n",
    "    cols.append(method + ' Minimum')\n",
    "    cols.append(method + ' Maximum')\n",
    "    cols.append(method + ' Median')\n",
    "    cols.append(method + ' Q1')\n",
    "    cols.append(method + ' Q3')\n",
    "data = pd.DataFrame(index = index, columns = cols)\n",
    "for feature in features:\n",
    "    data.loc[('With ' + feature), 'Count'] = len(compounds_with('Abs Kowwin error', feature))\n",
    "    data.loc[('Without ' + feature), 'Count'] = len(compounds_without('Abs Kowwin error', feature))\n",
    "    for method in methods:\n",
    "        data.loc[('With ' + feature), (method + ' Mean')] = compounds_with('Abs ' + method + ' error', feature).mean()\n",
    "        data.loc[('Without ' + feature), (method + ' Mean')] = compounds_without('Abs ' + method + ' error', feature).mean()\n",
    "        data.loc[('With ' + feature), (method + ' Standard Deviation')] = compounds_with('Abs ' + method + ' error', feature).std()\n",
    "        data.loc[('Without ' + feature), (method + ' Standard Deviation')] = compounds_without('Abs ' + method + ' error', feature).std()\n",
    "        data.loc[('With ' + feature), (method + ' Minimum')] = compounds_with('Abs ' + method + ' error', feature).min()\n",
    "        data.loc[('Without ' + feature), (method + ' Minimum')] = compounds_without('Abs ' + method + ' error', feature).min()\n",
    "        data.loc[('With ' + feature), (method + ' Maximum')] = compounds_with('Abs ' + method + ' error', feature).max()\n",
    "        data.loc[('Without ' + feature), (method + ' Maximum')] = compounds_without('Abs ' + method + ' error', feature).max()\n",
    "        data.loc[('With ' + feature), (method + ' Median')] = compounds_with('Abs ' + method + ' error', feature).median()\n",
    "        data.loc[('Without ' + feature), (method + ' Median')] = compounds_without('Abs ' + method + ' error', feature).median()\n",
    "        data.loc[('With ' + feature), (method + ' Q1')] = (compounds_with('Abs ' + method + ' error', feature).quantile(0.25))\n",
    "        data.loc[('Without ' + feature), (method + ' Q1')] = (compounds_without('Abs ' + method + ' error', feature).quantile(0.25))\n",
    "        data.loc[('With ' + feature), (method + ' Q3')] = (compounds_with('Abs ' + method + ' error', feature).quantile(0.75))\n",
    "        data.loc[('Without ' + feature), (method + ' Q3')] = (compounds_without('Abs ' + method + ' error', feature).quantile(0.75))\n",
    "data.to_csv('9.2. error statistics by feature.csv')"
   ]
  }
 ],
 "metadata": {
  "kernelspec": {
   "display_name": "testing",
   "language": "python",
   "name": "python3"
  },
  "language_info": {
   "codemirror_mode": {
    "name": "ipython",
    "version": 3
   },
   "file_extension": ".py",
   "mimetype": "text/x-python",
   "name": "python",
   "nbconvert_exporter": "python",
   "pygments_lexer": "ipython3",
   "version": "3.13.0"
  }
 },
 "nbformat": 4,
 "nbformat_minor": 5
}
