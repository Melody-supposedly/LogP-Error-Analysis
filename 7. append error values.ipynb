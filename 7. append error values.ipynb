{
 "cells": [
  {
   "cell_type": "code",
   "execution_count": 1,
   "id": "5710b8ed",
   "metadata": {},
   "outputs": [],
   "source": [
    "import numpy as np\n",
    "import pandas as pd\n",
    "data = pd.read_csv('6.1. data with molecular features.csv')"
   ]
  },
  {
   "cell_type": "code",
   "execution_count": 2,
   "id": "641b3861",
   "metadata": {},
   "outputs": [],
   "source": [
    "data['consensus logp'] = data[['Kowwin', 'Wildman-Crippen LogP', 'LogP model (Meylan-Kowwin)-prediction', 'LogP model (MLogP)-prediction', 'LogP model (ALogP)-prediction']].mean(axis=1)\n",
    "data['Kowwin error'] = (data['Kowwin'] - data['Kow'])\n",
    "data['Wildman-Crippen error'] = (data['Wildman-Crippen LogP'] - data['Kow'])\n",
    "data['Meylan-Kowwin error'] = (data['LogP model (Meylan-Kowwin)-prediction'] - data['Kow'])\n",
    "data['MLogP error'] = (data['LogP model (MLogP)-prediction'] - data['Kow'])\n",
    "data['ALogP error'] = (data['LogP model (ALogP)-prediction'] - data['Kow'])\n",
    "data['consensus logp error'] = (data['consensus logp'] - data['Kow'])"
   ]
  },
  {
   "cell_type": "code",
   "execution_count": 3,
   "id": "1eccd1d8",
   "metadata": {},
   "outputs": [],
   "source": [
    "data['Abs Kowwin error'] = np.abs(data['Kowwin'] - data['Kow'])\n",
    "data['Abs Wildman-Crippen error'] = np.abs(data['Wildman-Crippen LogP'] - data['Kow'])\n",
    "data['Abs Meylan-Kowwin error'] = np.abs(data['LogP model (Meylan-Kowwin)-prediction'] - data['Kow'])\n",
    "data['Abs MLogP error'] = np.abs(data['LogP model (MLogP)-prediction'] - data['Kow'])\n",
    "data['Abs ALogP error'] = np.abs(data['LogP model (ALogP)-prediction'] - data['Kow'])\n",
    "data['Abs consensus logp error'] = np.abs(data['consensus logp'] - data['Kow'])"
   ]
  },
  {
   "cell_type": "code",
   "execution_count": 4,
   "id": "875c334b",
   "metadata": {},
   "outputs": [],
   "source": [
    "data.to_csv('7.1. data with error values.csv', index=False)"
   ]
  }
 ],
 "metadata": {
  "kernelspec": {
   "display_name": "testing",
   "language": "python",
   "name": "python3"
  },
  "language_info": {
   "codemirror_mode": {
    "name": "ipython",
    "version": 3
   },
   "file_extension": ".py",
   "mimetype": "text/x-python",
   "name": "python",
   "nbconvert_exporter": "python",
   "pygments_lexer": "ipython3",
   "version": "3.13.0"
  }
 },
 "nbformat": 4,
 "nbformat_minor": 5
}
