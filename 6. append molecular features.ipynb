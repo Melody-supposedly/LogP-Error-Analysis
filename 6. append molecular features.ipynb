{
 "cells": [
  {
   "cell_type": "code",
   "execution_count": 1,
   "id": "01b2e7eb",
   "metadata": {},
   "outputs": [],
   "source": [
    "import rdkit as rk\n",
    "import pandas as pd\n",
    "import numpy as np\n",
    "data = pd.read_csv('5.1. cleaned and merged data.csv')"
   ]
  },
  {
   "cell_type": "code",
   "execution_count": 2,
   "id": "b95f8c71",
   "metadata": {},
   "outputs": [],
   "source": [
    "from rdkit import Chem\n",
    "from rdkit.Chem import Fragments\n",
    "from rdkit.Chem import Lipinski\n",
    "data['mols'] = data['SMILES'].apply(lambda smi: Chem.MolFromSmiles(smi))\n",
    "data['carboxylic acid'] = data['mols'].apply(lambda mol: Fragments.fr_COO2(mol))\n",
    "data['amide'] = data['mols'].apply(lambda mol: Fragments.fr_amide(mol))\n",
    "data['ester'] = data['mols'].apply(lambda mol: Fragments.fr_ester(mol))\n",
    "data['benzene'] = data['mols'].apply(lambda mol: Fragments.fr_benzene(mol))\n",
    "data['ketone'] = data['mols'].apply(lambda mol: Fragments.fr_ketone(mol))\n",
    "data['halogen'] = data['mols'].apply(lambda mol: Fragments.fr_halogen(mol))\n",
    "data['primary amine'] = data['mols'].apply(lambda mol: Fragments.fr_NH2(mol))\n",
    "data['secondary amine'] = data['mols'].apply(lambda mol: Fragments.fr_NH1(mol))\n",
    "data['tertiary amine'] = data['mols'].apply(lambda mol: Fragments.fr_NH0(mol))\n",
    "data['aliphatic hydroxyl'] = data['mols'].apply(lambda mol: Fragments.fr_Al_OH(mol))\n",
    "data['unbranched alkane >4'] = data['mols'].apply(lambda mol: Fragments.fr_unbrch_alkane(mol))\n",
    "data['alkyl halide'] = data['mols'].apply(lambda mol: Fragments.fr_alkyl_halide(mol))\n",
    "data['nitrile'] = data['mols'].apply(lambda mol: Fragments.fr_nitrile(mol))\n",
    "data['nitro'] = data['mols'].apply(lambda mol: Fragments.fr_nitro(mol))\n",
    "data['sulfide'] = data['mols'].apply(lambda mol: Fragments.fr_sulfide(mol))\n",
    "data['sulfonamide'] = data['mols'].apply(lambda mol: Fragments.fr_sulfonamd(mol))\n",
    "data['ether'] = data['mols'].apply(lambda mol: Fragments.fr_ether(mol))\n",
    "data['aromatic hydroxyl'] = data['mols'].apply(lambda mol: Fragments.fr_Ar_OH(mol))\n",
    "data['aromatic nitrogen'] = data['mols'].apply(lambda mol: Fragments.fr_Ar_N(mol))\n",
    "data['aromatic amine'] = data['mols'].apply(lambda mol: Fragments.fr_Ar_NH(mol))\n",
    "data['aniline'] = data['mols'].apply(lambda mol: Fragments.fr_aniline(mol))\n",
    "data['phenol'] = data['mols'].apply(lambda mol: Fragments.fr_phenol(mol))\n",
    "data['bicyclic'] = data['mols'].apply(lambda mol: Fragments.fr_bicyclic(mol))\n",
    "data['rings'] = data['mols'].apply(lambda mol: Lipinski.RingCount(mol))\n",
    "data['saturated rings'] = data['mols'].apply(lambda mol: Lipinski.NumSaturatedRings(mol))\n",
    "data['aromatic rings'] = data['mols'].apply(lambda mol: Lipinski.NumAromaticRings(mol))"
   ]
  },
  {
   "cell_type": "code",
   "execution_count": 3,
   "id": "464a6eaa",
   "metadata": {},
   "outputs": [],
   "source": [
    "data.to_csv('6.1. data with molecular features.csv', index=False)"
   ]
  }
 ],
 "metadata": {
  "kernelspec": {
   "display_name": "testing",
   "language": "python",
   "name": "python3"
  },
  "language_info": {
   "codemirror_mode": {
    "name": "ipython",
    "version": 3
   },
   "file_extension": ".py",
   "mimetype": "text/x-python",
   "name": "python",
   "nbconvert_exporter": "python",
   "pygments_lexer": "ipython3",
   "version": "3.13.0"
  }
 },
 "nbformat": 4,
 "nbformat_minor": 5
}
